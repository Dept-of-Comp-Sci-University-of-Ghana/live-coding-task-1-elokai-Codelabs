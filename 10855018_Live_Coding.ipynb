{
 "cells": [
  {
   "cell_type": "code",
   "execution_count": null,
   "id": "97c56c69",
   "metadata": {},
   "outputs": [],
   "source": [
    "import tweepy\n",
    "import pandas as pd"
   ]
  },
  {
   "cell_type": "code",
   "execution_count": null,
   "id": "f79239ad",
   "metadata": {},
   "outputs": [],
   "source": [
    "acess_token = \"1547651210185826304-E0q90AErWmz8IAxgtRrPR8ldtjC98P\"\n",
    "acess_token_secret = \"aZH9tl3Ip3Iwn8ncsfe2bXtQnSGaN1sK4hjyIhRR5N68H\"\n",
    "consumer_key = \"OjNFwlSug0LSxY5E4xPZXDgX9\"\n",
    "consumer_secret = \"Aj9NVvlO8j9oJId3kxceQSBIWqejhub6igyafxcw0AtN3sZltK\"\n",
    "bearerToken = \"AAAAAAAAAAAAAAAAAAAAALPxfwEAAAAAYUpxZNzaoAkjok2lK4nJL53I6v0%3DK0HSC3pk77e76YXx6QhrE62YNDSlxMhrtn2tGJXjncR4Eq46GU\"\n",
    "auth = tweepy.OAuthHandler(consumer_key,consumer_secret)\n",
    "auth.set_access_token(acess_token,acess_token_secret)\n",
    "\n",
    "# stream = tweepy.Stream(consumer_key, consumer_secret, access_token, access_token_secret)\n",
    "client = tweepy.Client(bearer_token =bearerToken )\n",
    "\n"
   ]
  },
  {
   "cell_type": "code",
   "execution_count": null,
   "id": "570144cf",
   "metadata": {},
   "outputs": [],
   "source": [
    "Data = client.search_recent_tweets(query=query, tweet_fields=['lang', 'created_at'], expansions=['author_id'], user_fields=['profile_image_url'])"
   ]
  },
  {
   "cell_type": "code",
   "execution_count": null,
   "id": "0463880c",
   "metadata": {},
   "outputs": [],
   "source": [
    "RefinedData = pd.DataFrame(columns = ['User_ID','Name', 'Username', 'Profile_image', 'Tweet_ID', 'Tweet_Date', 'Tweet_lang', 'Tweet_text'])\n",
    "print(RefinedData)"
   ]
  },
  {
   "cell_type": "code",
   "execution_count": 1,
   "id": "f52efcb1",
   "metadata": {},
   "outputs": [
    {
     "ename": "NameError",
     "evalue": "name 'Data' is not defined",
     "output_type": "error",
     "traceback": [
      "\u001b[1;31m---------------------------------------------------------------------------\u001b[0m",
      "\u001b[1;31mNameError\u001b[0m                                 Traceback (most recent call last)",
      "Input \u001b[1;32mIn [1]\u001b[0m, in \u001b[0;36m<cell line: 1>\u001b[1;34m()\u001b[0m\n\u001b[1;32m----> 1\u001b[0m \u001b[38;5;28;01mfor\u001b[39;00m i \u001b[38;5;129;01min\u001b[39;00m \u001b[38;5;28mrange\u001b[39m(\u001b[38;5;28mlen\u001b[39m(\u001b[43mData\u001b[49m\u001b[38;5;241m.\u001b[39mdata)):\n\u001b[0;32m      2\u001b[0m     userDetails[\u001b[38;5;124m'\u001b[39m\u001b[38;5;124mUser_ID\u001b[39m\u001b[38;5;124m'\u001b[39m] \u001b[38;5;241m=\u001b[39m newUsers[i]\u001b[38;5;241m.\u001b[39mid\n\u001b[0;32m      3\u001b[0m     userDetails[\u001b[38;5;124m'\u001b[39m\u001b[38;5;124mName\u001b[39m\u001b[38;5;124m'\u001b[39m] \u001b[38;5;241m=\u001b[39m newUsers[i]\u001b[38;5;241m.\u001b[39mname\n",
      "\u001b[1;31mNameError\u001b[0m: name 'Data' is not defined"
     ]
    }
   ],
   "source": [
    "for i in range(len(Data.data)):\n",
    "    userDetails['User_ID'] = newUsers[i].id\n",
    "    userDetails['Name'] = newUsers[i].name\n",
    "    userDetails['Username'] = newUsers[i].username\n",
    "    userDetails['Profile_image'] = newUsers[i].profile_image_url\n",
    "    userDetails['Tweet_ID'] = Data[0][i].id\n",
    "    userDetails['Tweet_Date'] = Data[0][i].created_at\n",
    "    userDetails['Tweet_lang'] = Data[0][i].lang\n",
    "    userDetails['Tweet_text'] = Data[0][i].text\n",
    "    print(userDetails)\n",
    "    print()\n",
    "    RefinedData = tweetData.append(userDetails, ignore_index=True)"
   ]
  },
  {
   "cell_type": "code",
   "execution_count": null,
   "id": "21c88f7c",
   "metadata": {},
   "outputs": [],
   "source": [
    "RefinedData.head()"
   ]
  }
 ],
 "metadata": {
  "kernelspec": {
   "display_name": "Python 3 (ipykernel)",
   "language": "python",
   "name": "python3"
  },
  "language_info": {
   "codemirror_mode": {
    "name": "ipython",
    "version": 3
   },
   "file_extension": ".py",
   "mimetype": "text/x-python",
   "name": "python",
   "nbconvert_exporter": "python",
   "pygments_lexer": "ipython3",
   "version": "3.9.12"
  }
 },
 "nbformat": 4,
 "nbformat_minor": 5
}
